{
  "nbformat": 4,
  "nbformat_minor": 0,
  "metadata": {
    "colab": {
      "provenance": []
    },
    "kernelspec": {
      "name": "python3",
      "display_name": "Python 3"
    },
    "language_info": {
      "name": "python"
    }
  },
  "cells": [
    {
      "cell_type": "markdown",
      "source": [
        "Web Scraping using Python (and Beautiful Soup)"
      ],
      "metadata": {
        "id": "2_aGqGc1PTVB"
      }
    },
    {
      "cell_type": "markdown",
      "source": [],
      "metadata": {
        "id": "5aLq2i7vPa0Y"
      }
    },
    {
      "cell_type": "markdown",
      "source": [
        "Web Scraping using Beautiful Soup\n",
        "\n",
        "Using Jupyter Notebook, you should start by importing the necessary modules (pandas, numpy, matplotlib.pyplot, seaborn). If you don't have Jupyter Notebook installed, I recommend installing it using the Anaconda Python distribution which is available on the internet. To easily display the plots, make sure to include the line %matplotlib inline as shown below."
      ],
      "metadata": {
        "id": "qaL3ec0JPa2L"
      }
    },
    {
      "cell_type": "code",
      "source": [
        "import pandas as pd\n",
        "import numpy as np\n",
        "import matplotlib.pyplot as plt\n",
        "import seaborn as sns\n",
        "%matplotlib inline\n"
      ],
      "metadata": {
        "id": "rFXhX8-xPbaw"
      },
      "execution_count": null,
      "outputs": []
    },
    {
      "cell_type": "code",
      "source": [
        "from urllib.request import urlopen\n",
        "from bs4 import BeautifulSoup\n"
      ],
      "metadata": {
        "id": "2JTVKJmJPct1"
      },
      "execution_count": null,
      "outputs": []
    },
    {
      "cell_type": "code",
      "source": [
        "url = \"http://www.hubertiming.com/results/2017GPTR10K\"\n",
        "html = urlopen(url)\n"
      ],
      "metadata": {
        "id": "ljZPNvWJPeIx"
      },
      "execution_count": null,
      "outputs": []
    },
    {
      "cell_type": "code",
      "source": [
        "soup = BeautifulSoup(html, 'lxml')\n",
        "type(soup)\n"
      ],
      "metadata": {
        "id": "5syDXrrpPfPq"
      },
      "execution_count": null,
      "outputs": []
    },
    {
      "cell_type": "code",
      "source": [
        "bs4.BeautifulSoup\n"
      ],
      "metadata": {
        "id": "ZtZeQ8OmPgj7"
      },
      "execution_count": null,
      "outputs": []
    },
    {
      "cell_type": "code",
      "source": [
        "# Get the title\n",
        "title = soup.title\n",
        "print(title)\n"
      ],
      "metadata": {
        "id": "5T6xnjFyPhuO"
      },
      "execution_count": null,
      "outputs": []
    },
    {
      "cell_type": "code",
      "source": [
        "# Print out the text\n",
        "text = soup.get_text()\n",
        "#print(soup.text)\n"
      ],
      "metadata": {
        "id": "dqgy5JCTPi2U"
      },
      "execution_count": null,
      "outputs": []
    },
    {
      "cell_type": "code",
      "source": [
        "soup.find_all('a')\n"
      ],
      "metadata": {
        "id": "6ot5LJNMPlD-"
      },
      "execution_count": null,
      "outputs": []
    },
    {
      "cell_type": "code",
      "source": [
        "all_links = soup.find_all(\"a\")\n",
        "for link in all_links:\n",
        "    print(link.get(\"href\"))\n"
      ],
      "metadata": {
        "id": "4ibADBV-Pmh9"
      },
      "execution_count": null,
      "outputs": []
    },
    {
      "cell_type": "code",
      "source": [
        "# Print the first 10 rows for sanity check\n",
        "rows = soup.find_all('tr')\n",
        "print(rows[:10])\n"
      ],
      "metadata": {
        "id": "2P1nitmCPoPL"
      },
      "execution_count": null,
      "outputs": []
    },
    {
      "cell_type": "code",
      "source": [
        "for row in rows:\n",
        "    row_td = row.find_all('td')\n",
        "print(row_td)\n",
        "type(row_td)\n"
      ],
      "metadata": {
        "id": "VzQI6H--Pphx"
      },
      "execution_count": null,
      "outputs": []
    },
    {
      "cell_type": "code",
      "source": [
        "str_cells = str(row_td)\n",
        "cleantext = BeautifulSoup(str_cells, \"lxml\").get_text()\n",
        "print(cleantext)\n"
      ],
      "metadata": {
        "id": "e74ITbjFPryK"
      },
      "execution_count": null,
      "outputs": []
    },
    {
      "cell_type": "code",
      "source": [
        "import re\n",
        "\n",
        "list_rows = []\n",
        "for row in rows:\n",
        "    cells = row.find_all('td')\n",
        "    str_cells = str(cells)\n",
        "    clean = re.compile('<.*?>')\n",
        "    clean2 = (re.sub(clean, '',str_cells))\n",
        "    list_rows.append(clean2)\n",
        "print(clean2)\n",
        "type(clean2)\n"
      ],
      "metadata": {
        "id": "UY7PyCo5PutY"
      },
      "execution_count": null,
      "outputs": []
    },
    {
      "cell_type": "code",
      "source": [
        "df = pd.DataFrame(list_rows)\n",
        "df.head(10)\n"
      ],
      "metadata": {
        "id": "uA0KMQ-ePw1E"
      },
      "execution_count": null,
      "outputs": []
    },
    {
      "cell_type": "code",
      "source": [
        "df1 = df[0].str.split(',', expand=True)\n",
        "df1.head(10)\n"
      ],
      "metadata": {
        "id": "iJzgTyVWPyIz"
      },
      "execution_count": null,
      "outputs": []
    },
    {
      "cell_type": "code",
      "source": [
        "df1[0] = df1[0].str.strip('[')\n",
        "df1.head(10)\n"
      ],
      "metadata": {
        "id": "t1zQrFyGP0VH"
      },
      "execution_count": null,
      "outputs": []
    },
    {
      "cell_type": "code",
      "source": [
        "col_labels = soup.find_all('th')\n"
      ],
      "metadata": {
        "id": "ovyB6CWfP1ZK"
      },
      "execution_count": null,
      "outputs": []
    },
    {
      "cell_type": "code",
      "source": [
        "all_header = []\n",
        "col_str = str(col_labels)\n",
        "cleantext2 = BeautifulSoup(col_str, \"lxml\").get_text()\n",
        "all_header.append(cleantext2)\n",
        "print(all_header)\n"
      ],
      "metadata": {
        "id": "LJlx2aJJP2vB"
      },
      "execution_count": null,
      "outputs": []
    },
    {
      "cell_type": "code",
      "source": [
        "df2 = pd.DataFrame(all_header)\n",
        "df2.head()\n"
      ],
      "metadata": {
        "id": "xCLfl3M5P3-M"
      },
      "execution_count": null,
      "outputs": []
    },
    {
      "cell_type": "code",
      "source": [
        "df3 = df2[0].str.split(',', expand=True)\n",
        "df3.head()\n"
      ],
      "metadata": {
        "id": "jRZR_HQeP6Ac"
      },
      "execution_count": null,
      "outputs": []
    },
    {
      "cell_type": "code",
      "source": [
        "frames = [df3, df1]\n",
        "\n",
        "df4 = pd.concat(frames)\n",
        "df4.head(10)\n"
      ],
      "metadata": {
        "id": "0WSAt1HxP7gj"
      },
      "execution_count": null,
      "outputs": []
    },
    {
      "cell_type": "code",
      "source": [
        "df5 = df4.rename(columns=df4.iloc[0])\n",
        "df5.head()\n"
      ],
      "metadata": {
        "id": "8_Pzh0phP83h"
      },
      "execution_count": null,
      "outputs": []
    },
    {
      "cell_type": "code",
      "source": [
        "df5.info()\n",
        "df5.shape\n"
      ],
      "metadata": {
        "id": "G3fhA_wEP-GZ"
      },
      "execution_count": null,
      "outputs": []
    },
    {
      "cell_type": "code",
      "source": [
        "df6 = df5.dropna(axis=0, how='any')\n"
      ],
      "metadata": {
        "id": "AvHAfiBVP_cq"
      },
      "execution_count": null,
      "outputs": []
    },
    {
      "cell_type": "code",
      "source": [
        "df7 = df6.drop(df6.index[0])\n",
        "df7.head()\n"
      ],
      "metadata": {
        "id": "3X_Bd45HQBMH"
      },
      "execution_count": null,
      "outputs": []
    },
    {
      "cell_type": "code",
      "source": [
        "df7.rename(columns={'[Place': 'Place'},inplace=True)\n",
        "df7.rename(columns={' Team]': 'Team'},inplace=True)\n",
        "df7.head()\n"
      ],
      "metadata": {
        "id": "I7NjlsaNQCWj"
      },
      "execution_count": null,
      "outputs": []
    },
    {
      "cell_type": "code",
      "source": [
        "df7['Team'] = df7['Team'].str.strip(']')\n",
        "df7.head()\n"
      ],
      "metadata": {
        "id": "8UW7YBNaQDX5"
      },
      "execution_count": null,
      "outputs": []
    },
    {
      "cell_type": "code",
      "source": [
        "time_list = df7[' Chip Time'].tolist()\n",
        "\n",
        "# You can use a for loop to convert 'Chip Time' to minutes\n",
        "\n",
        "time_mins = []\n",
        "for i in time_list:\n",
        "    h, m, s = i.split(':')\n",
        "    math = (int(h) * 3600 + int(m) * 60 + int(s))/60\n",
        "    time_mins.append(math)\n",
        "#print(time_mins)\n"
      ],
      "metadata": {
        "id": "QlQ4L82lQElY"
      },
      "execution_count": null,
      "outputs": []
    },
    {
      "cell_type": "code",
      "source": [
        "df7['Runner_mins'] = time_mins\n",
        "df7.head()\n"
      ],
      "metadata": {
        "id": "lrXgP4FaQGAq"
      },
      "execution_count": null,
      "outputs": []
    },
    {
      "cell_type": "code",
      "source": [
        "df7.describe(include=[np.number])\n"
      ],
      "metadata": {
        "id": "gsDVLGR8QIye"
      },
      "execution_count": null,
      "outputs": []
    },
    {
      "cell_type": "code",
      "source": [
        "from pylab import rcParams\n",
        "rcParams['figure.figsize'] = 15, 5\n"
      ],
      "metadata": {
        "id": "N0kACflrQJ2j"
      },
      "execution_count": null,
      "outputs": []
    },
    {
      "cell_type": "code",
      "source": [
        "df7.boxplot(column='Runner_mins')\n",
        "plt.grid(True, axis='y')\n",
        "plt.ylabel('Chip Time')\n",
        "plt.xticks([1], ['Runners'])\n"
      ],
      "metadata": {
        "id": "wX9cizpyQLlv"
      },
      "execution_count": null,
      "outputs": []
    },
    {
      "cell_type": "code",
      "source": [
        "x = df7['Runner_mins']\n",
        "ax = sns.distplot(x, hist=True, kde=True, rug=False, color='m', bins=25, hist_kws={'edgecolor':'black'})\n",
        "plt.show()\n"
      ],
      "metadata": {
        "id": "Vh4XsUq0QM2a"
      },
      "execution_count": null,
      "outputs": []
    },
    {
      "cell_type": "code",
      "source": [
        "f_fuko = df7.loc[df7[' Gender']==' F']['Runner_mins']\n",
        "m_fuko = df7.loc[df7[' Gender']==' M']['Runner_mins']\n",
        "sns.distplot(f_fuko, hist=True, kde=True, rug=False, hist_kws={'edgecolor':'black'}, label='Female')\n",
        "sns.distplot(m_fuko, hist=False, kde=True, rug=False, hist_kws={'edgecolor':'black'}, label='Male')\n",
        "plt.legend()\n"
      ],
      "metadata": {
        "id": "arGHe2q6QOlG"
      },
      "execution_count": null,
      "outputs": []
    },
    {
      "cell_type": "code",
      "source": [
        "g_stats = df7.groupby(\" Gender\", as_index=True).describe()\n",
        "print(g_stats)\n"
      ],
      "metadata": {
        "id": "1omA8n6bQP7S"
      },
      "execution_count": null,
      "outputs": []
    },
    {
      "cell_type": "code",
      "source": [
        "df7.boxplot(column='Runner_mins', by=' Gender')\n",
        "plt.ylabel('Chip Time')\n",
        "plt.suptitle(\"\")\n"
      ],
      "metadata": {
        "id": "51dqsv_WQSQt"
      },
      "execution_count": null,
      "outputs": []
    }
  ]
}